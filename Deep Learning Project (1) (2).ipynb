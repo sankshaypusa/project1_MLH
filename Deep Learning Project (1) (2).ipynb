{
 "cells": [
  {
   "cell_type": "code",
   "execution_count": 1,
   "id": "2aa90ceb-51fb-4b4e-a9c9-3d4b7bd5f143",
   "metadata": {},
   "outputs": [],
   "source": [
    "import tensorflow as tf\n",
    "\n",
    "from tensorflow.keras.preprocessing.image import ImageDataGenerator\n",
    "import matplotlib.pyplot as plt"
   ]
  },
  {
   "cell_type": "code",
   "execution_count": 2,
   "id": "76f1d082-706f-448f-9694-950551d85c87",
   "metadata": {},
   "outputs": [],
   "source": [
    "# ✅ STEP 1: Unzip Uploaded Dataset\n",
    "import zipfile\n",
    "\n",
    "with zipfile.ZipFile(\"fer2013.zip\", 'r') as zip_ref:\n",
    "    zip_ref.extractall(\"fer2013\")"
   ]
  },
  {
   "cell_type": "code",
   "execution_count": 3,
   "id": "a0a7ab71-7c70-46e3-93ec-3b3e0fba9be1",
   "metadata": {},
   "outputs": [
    {
     "name": "stdout",
     "output_type": "stream",
     "text": [
      "Found 28709 images belonging to 7 classes.\n",
      "Found 7178 images belonging to 7 classes.\n"
     ]
    }
   ],
   "source": [
    "# ✅ STEP 2: Load and Preprocess Dataset\n",
    "\n",
    "import tensorflow as tf\n",
    "from tensorflow.keras.preprocessing.image import ImageDataGenerator\n",
    "import matplotlib.pyplot as plt\n",
    "from sklearn.utils import class_weight\n",
    "import numpy as np\n",
    "\n",
    "IMAGE_SIZE = (96, 96)\n",
    "BATCH_SIZE = 64\n",
    "train_path = \"fer2013/train\"\n",
    "val_path = \"fer2013/test\"\n",
    "\n",
    "train_datagen = ImageDataGenerator(\n",
    "    rescale=1./255,\n",
    "    rotation_range=10,\n",
    "    zoom_range=0.1,\n",
    "    horizontal_flip=True,\n",
    "    width_shift_range=0.1,\n",
    "    height_shift_range=0.1\n",
    ")\n",
    "\n",
    "val_datagen = ImageDataGenerator(rescale=1./255)\n",
    "\n",
    "train_data = train_datagen.flow_from_directory(\n",
    "    train_path,\n",
    "    target_size=IMAGE_SIZE,\n",
    "    batch_size=BATCH_SIZE,\n",
    "    class_mode='categorical',\n",
    "    shuffle=True\n",
    ")\n",
    "\n",
    "val_data = val_datagen.flow_from_directory(\n",
    "    val_path,\n",
    "    target_size=IMAGE_SIZE,\n",
    "    batch_size=BATCH_SIZE,\n",
    "    class_mode='categorical',\n",
    "    shuffle=False\n",
    ")"
   ]
  },
  {
   "cell_type": "code",
   "execution_count": 4,
   "id": "a484cbbb-c205-4135-bccd-442f957ec551",
   "metadata": {},
   "outputs": [],
   "source": [
    "# ✅ STEP 3: Compute Class Weights to Handle Imbalance\n",
    "\n",
    "y_train = train_data.classes\n",
    "class_weights = class_weight.compute_class_weight(class_weight='balanced', classes=np.unique(y_train), y=y_train)\n",
    "class_weights = dict(enumerate(class_weights))"
   ]
  },
  {
   "cell_type": "code",
   "execution_count": 5,
   "id": "90522796-1e9d-434a-b0ae-e050e3dfb51a",
   "metadata": {},
   "outputs": [
    {
     "name": "stderr",
     "output_type": "stream",
     "text": [
      "C:\\Users\\manop\\AppData\\Local\\Temp\\ipykernel_42292\\2422404845.py:11: UserWarning: `input_shape` is undefined or non-square, or `rows` is not in [96, 128, 160, 192, 224]. Weights for input shape (224, 224) will be loaded as the default.\n",
      "  mobilenet = MobileNetV2(include_top=False, input_tensor=input_tensor, weights='imagenet')\n"
     ]
    }
   ],
   "source": [
    "# ✅ STEP 4: Build Combined Model with MobileNetV2 + EfficientNetB0\n",
    "\n",
    "from tensorflow.keras.applications import MobileNetV2, EfficientNetB0\n",
    "from tensorflow.keras.models import Model\n",
    "from tensorflow.keras.layers import GlobalAveragePooling2D, Dense, Dropout, Input, Average\n",
    "from tensorflow.keras.optimizers import Adam\n",
    "from tensorflow.keras.callbacks import EarlyStopping\n",
    "\n",
    "input_tensor = Input(shape=(96, 96, 3))\n",
    "\n",
    "mobilenet = MobileNetV2(include_top=False, input_tensor=input_tensor, weights='imagenet')\n",
    "mobilenet.trainable = False\n",
    "x1 = GlobalAveragePooling2D()(mobilenet.output)\n",
    "x1 = Dropout(0.3)(x1)\n",
    "x1 = Dense(7, activation='softmax')(x1)\n",
    "\n",
    "efficientnet = EfficientNetB0(include_top=False, input_tensor=input_tensor, weights='imagenet')\n",
    "efficientnet.trainable = False\n",
    "x2 = GlobalAveragePooling2D()(efficientnet.output)\n",
    "x2 = Dropout(0.3)(x2)\n",
    "x2 = Dense(7, activation='softmax')(x2)\n",
    "\n",
    "avg_output = Average()([x1, x2])\n",
    "ensemble_model = Model(inputs=input_tensor, outputs=avg_output)\n",
    "ensemble_model.compile(optimizer=Adam(learning_rate=2e-4), loss='categorical_crossentropy', metrics=['accuracy'])"
   ]
  },
  {
   "cell_type": "code",
   "execution_count": 6,
   "id": "276d6853-f43a-4c8e-84fc-3d173c305144",
   "metadata": {},
   "outputs": [
    {
     "name": "stderr",
     "output_type": "stream",
     "text": [
      "C:\\Users\\manop\\anaconda3\\Lib\\site-packages\\keras\\src\\trainers\\data_adapters\\py_dataset_adapter.py:121: UserWarning: Your `PyDataset` class should call `super().__init__(**kwargs)` in its constructor. `**kwargs` can include `workers`, `use_multiprocessing`, `max_queue_size`. Do not pass these arguments to `fit()`, as they will be ignored.\n",
      "  self._warn_if_super_not_called()\n"
     ]
    },
    {
     "name": "stdout",
     "output_type": "stream",
     "text": [
      "Epoch 1/20\n",
      "\u001b[1m449/449\u001b[0m \u001b[32m━━━━━━━━━━━━━━━━━━━━\u001b[0m\u001b[37m\u001b[0m \u001b[1m807s\u001b[0m 2s/step - accuracy: 0.1743 - loss: 2.0402 - val_accuracy: 0.2487 - val_loss: 1.8901\n",
      "Epoch 2/20\n",
      "\u001b[1m449/449\u001b[0m \u001b[32m━━━━━━━━━━━━━━━━━━━━\u001b[0m\u001b[37m\u001b[0m \u001b[1m231s\u001b[0m 514ms/step - accuracy: 0.2713 - loss: 1.8548 - val_accuracy: 0.3306 - val_loss: 1.7517\n",
      "Epoch 3/20\n",
      "\u001b[1m449/449\u001b[0m \u001b[32m━━━━━━━━━━━━━━━━━━━━\u001b[0m\u001b[37m\u001b[0m \u001b[1m226s\u001b[0m 503ms/step - accuracy: 0.3083 - loss: 1.7816 - val_accuracy: 0.3303 - val_loss: 1.7554\n",
      "Epoch 4/20\n",
      "\u001b[1m449/449\u001b[0m \u001b[32m━━━━━━━━━━━━━━━━━━━━\u001b[0m\u001b[37m\u001b[0m \u001b[1m228s\u001b[0m 508ms/step - accuracy: 0.3026 - loss: 1.7813 - val_accuracy: 0.3447 - val_loss: 1.7218\n",
      "Epoch 5/20\n",
      "\u001b[1m449/449\u001b[0m \u001b[32m━━━━━━━━━━━━━━━━━━━━\u001b[0m\u001b[37m\u001b[0m \u001b[1m228s\u001b[0m 507ms/step - accuracy: 0.3220 - loss: 1.7579 - val_accuracy: 0.3518 - val_loss: 1.7117\n",
      "Epoch 6/20\n",
      "\u001b[1m449/449\u001b[0m \u001b[32m━━━━━━━━━━━━━━━━━━━━\u001b[0m\u001b[37m\u001b[0m \u001b[1m227s\u001b[0m 505ms/step - accuracy: 0.3389 - loss: 1.7222 - val_accuracy: 0.3774 - val_loss: 1.6693\n",
      "Epoch 7/20\n",
      "\u001b[1m449/449\u001b[0m \u001b[32m━━━━━━━━━━━━━━━━━━━━\u001b[0m\u001b[37m\u001b[0m \u001b[1m231s\u001b[0m 515ms/step - accuracy: 0.3455 - loss: 1.7224 - val_accuracy: 0.3491 - val_loss: 1.7118\n",
      "Epoch 8/20\n",
      "\u001b[1m449/449\u001b[0m \u001b[32m━━━━━━━━━━━━━━━━━━━━\u001b[0m\u001b[37m\u001b[0m \u001b[1m234s\u001b[0m 521ms/step - accuracy: 0.3374 - loss: 1.6941 - val_accuracy: 0.3441 - val_loss: 1.7268\n",
      "Epoch 9/20\n",
      "\u001b[1m449/449\u001b[0m \u001b[32m━━━━━━━━━━━━━━━━━━━━\u001b[0m\u001b[37m\u001b[0m \u001b[1m228s\u001b[0m 508ms/step - accuracy: 0.3417 - loss: 1.7119 - val_accuracy: 0.3632 - val_loss: 1.6796\n"
     ]
    },
    {
     "name": "stderr",
     "output_type": "stream",
     "text": [
      "WARNING:absl:You are saving your model as an HDF5 file via `model.save()` or `keras.saving.save_model(model)`. This file format is considered legacy. We recommend using instead the native Keras format, e.g. `model.save('my_model.keras')` or `keras.saving.save_model(model, 'my_model.keras')`. \n"
     ]
    }
   ],
   "source": [
    "# ✅ STEP 5: Training with Early Stopping\n",
    "\n",
    "early_stop = EarlyStopping(monitor='val_accuracy', patience=3, restore_best_weights=True)\n",
    "\n",
    "history = ensemble_model.fit(\n",
    "    train_data,\n",
    "    validation_data=val_data,\n",
    "    epochs=20,\n",
    "    class_weight=class_weights,\n",
    "    callbacks=[early_stop],\n",
    "    verbose=1\n",
    ")\n",
    "\n",
    "ensemble_model.save(\"ensemble_emotion_model.h5\")"
   ]
  },
  {
   "cell_type": "code",
   "execution_count": 13,
   "id": "77997c57-75a1-4f82-964f-f4e55325c40f",
   "metadata": {},
   "outputs": [
    {
     "data": {
      "image/png": "[encoded data removed]",
      "text/plain": [
       "<Figure size 1200x400 with 2 Axes>"
      ]
     },
     "metadata": {},
     "output_type": "display_data"
    }
   ],
   "source": [
    "# ✅ STEP 6: Plot Training History\n",
    "\n",
    "plt.figure(figsize=(12, 4))\n",
    "plt.subplot(1, 2, 1)\n",
    "plt.plot(history.history['accuracy'], label='Train Accuracy')\n",
    "plt.plot(history.history['val_accuracy'], label='Val Accuracy')\n",
    "plt.title(\"Accuracy\")\n",
    "plt.legend()\n",
    "\n",
    "plt.subplot(1, 2, 2)\n",
    "plt.plot(history.history['loss'], label='Train Loss')\n",
    "plt.plot(history.history['val_loss'], label='Val Loss')\n",
    "plt.title(\"Loss\")\n",
    "plt.legend()\n",
    "\n",
    "plt.show()\n"
   ]
  },
  {
   "cell_type": "code",
   "execution_count": 224,
   "id": "8585ddd3-c394-4cbe-acc4-9ed9672d037a",
   "metadata": {},
   "outputs": [
    {
     "name": "stderr",
     "output_type": "stream",
     "text": [
      "WARNING:absl:Compiled the loaded model, but the compiled metrics have yet to be built. `model.compile_metrics` will be empty until you train or evaluate the model.\n"
     ]
    },
    {
     "name": "stdout",
     "output_type": "stream",
     "text": [
      "\n",
      "✅ Final Detected Emotion: Surprise\n",
      "\n",
      "💡 Detected Emotion: Surprise\n",
      "\n",
      "🎬 Movie Recommendations:\n",
      "→ Justice League: Starcrossed - The Movie (2004)\n",
      "→ Sherlock Jr. (1924)\n",
      "→ Kizumonogatari Part 3: Reiketsu (2017)\n",
      "→ Kizumonogatari Part 2: Nekketsu (2016)\n",
      "→ Scooby-Doo! and Kiss: Rock and Roll Mystery (2015)\n",
      "\n",
      "🎧 Playlist Recommendations:\n",
      "🎵 Surprise dance songs 😽 → https://open.spotify.com/playlist/27DdSukpUSOEplhHsQHNrR\n",
      "🎵 GABBY'S DOLLHOUSE - OFFICIAL PLAYLIST! → https://open.spotify.com/playlist/7KP4SLTutz6oQ1Fzkxfk7f\n"
     ]
    }
   ],
   "source": [
    "import cv2\n",
    "import numpy as np\n",
    "from collections import Counter, deque\n",
    "\n",
    "model = tf.keras.models.load_model(\"ensemble_emotion_model.h5\")\n",
    "emotion_labels = ['angry', 'disgust', 'fear', 'happy', 'neutral', 'sad', 'surprise']\n",
    "cap = cv2.VideoCapture(0)\n",
    "face_cascade = cv2.CascadeClassifier(cv2.data.haarcascades + 'haarcascade_frontalface_default.xml')\n",
    "\n",
    "# 🎯 Track top predicted emotion history\n",
    "emotion_history = deque(maxlen=30)\n",
    "\n",
    "if not cap.isOpened():\n",
    "    print(\"[ERROR] Cannot access webcam. Please check your camera.\")\n",
    "else:\n",
    "    while True:\n",
    "        ret, frame = cap.read()\n",
    "        if not ret:\n",
    "            break\n",
    "\n",
    "        gray = cv2.cvtColor(frame, cv2.COLOR_BGR2GRAY)\n",
    "        faces = face_cascade.detectMultiScale(gray, 1.3, 5)\n",
    "\n",
    "        for (x, y, w, h) in faces:\n",
    "            face = frame[y:y+h, x:x+w]\n",
    "            face = cv2.resize(face, (96, 96))\n",
    "            face = face.astype(\"float32\") / 255.0\n",
    "            face = np.expand_dims(face, axis=0)\n",
    "\n",
    "            preds = model.predict(face, verbose=0)[0]\n",
    "            top_idx = np.argsort(preds)[-3:][::-1]\n",
    "            final_emotion = emotion_labels[top_idx[0]]\n",
    "\n",
    "            # ⏺️ Add to history for final decision after camera closes\n",
    "            emotion_history.append(final_emotion)\n",
    "\n",
    "            # 👁️ Show top 3 on screen\n",
    "            for i, idx in enumerate(top_idx):\n",
    "                label = f\"{emotion_labels[idx]} ({preds[idx]*100:.1f}%)\"\n",
    "                y_offset = y - 10 - i * 20\n",
    "                cv2.putText(frame, label, (x, y_offset),\n",
    "                            cv2.FONT_HERSHEY_SIMPLEX, 0.7, (36, 255, 12), 2)\n",
    "\n",
    "            cv2.rectangle(frame, (x, y), (x+w, y+h), (255, 0, 0), 2)\n",
    "\n",
    "        cv2.imshow('Emotion Detection', frame)\n",
    "        if cv2.waitKey(1) & 0xFF == ord('q'):\n",
    "            break\n",
    "\n",
    "    cap.release()\n",
    "    cv2.destroyAllWindows()\n",
    "\n",
    "    # ✅ Most frequent final emotion after webcam closes\n",
    "    if emotion_history:\n",
    "        final = Counter(emotion_history).most_common(1)[0][0]\n",
    "        print(f\"\\n✅ Final Detected Emotion: {final.capitalize()}\")\n",
    "        get_recommendations_for_emotion(final)\n",
    "    else:\n",
    "        print(\"\\n😕 No emotion detected.\")\n"
   ]
  },
  {
   "cell_type": "code",
   "execution_count": 226,
   "id": "00a600a9-f316-4ad5-ab8f-c02616b4314b",
   "metadata": {},
   "outputs": [
    {
     "name": "stdout",
     "output_type": "stream",
     "text": [
      "\n",
      "--- Manual Mood Selection ---\n",
      "1. Happy\n",
      "2. Sad\n",
      "3. Angry\n",
      "4. Fear\n",
      "5. Surprise\n",
      "6. Neutral\n",
      "7. Disgust\n"
     ]
    },
    {
     "name": "stdin",
     "output_type": "stream",
     "text": [
      "Select your mood (1-7):  5\n"
     ]
    },
    {
     "name": "stdout",
     "output_type": "stream",
     "text": [
      "\n",
      "✅ You selected: Surprise\n",
      "\n",
      "🎬 Movie Recommendations:\n",
      "→ Justice League: Starcrossed - The Movie (2004)\n",
      "→ Sherlock Jr. (1924)\n",
      "→ Kizumonogatari Part 3: Reiketsu (2017)\n",
      "→ Kizumonogatari Part 2: Nekketsu (2016)\n",
      "→ Scooby-Doo! and Kiss: Rock and Roll Mystery (2015)\n",
      "\n",
      "🎧 Playlist Recommendations:\n",
      "🎵 90's COUNTRY HITS → https://open.spotify.com/playlist/2XfprUcSqwDFCti0sxmMq3\n",
      "🎵 Surprise playlist → https://open.spotify.com/playlist/6KoNUd1VDZfFySnU741QTq\n",
      "🎵 TAYLOR SWIFT - THE ERAS TOUR SETLIST + SURPRISE SONGS (US TOUR) → https://open.spotify.com/playlist/4EmsQV6bxL1tQ13bzZ2YoC\n",
      "🎵 quince suprise dance  → https://open.spotify.com/playlist/4hERIH5N7XoTxdlB9t2vy7\n"
     ]
    }
   ],
   "source": [
    "# ✅ STEP 8: Manual Mood Selection + Real Recommendations\n",
    "\n",
    "available_moods = ['happy', 'sad', 'angry', 'fear', 'surprise', 'neutral', 'disgust']\n",
    "print(\"\\n--- Manual Mood Selection ---\")\n",
    "for i, mood in enumerate(available_moods):\n",
    "    print(f\"{i + 1}. {mood.capitalize()}\")\n",
    "\n",
    "try:\n",
    "    choice = int(input(\"Select your mood (1-7): \"))\n",
    "    if 1 <= choice <= 7:\n",
    "        selected_mood = available_moods[choice - 1]\n",
    "        print(f\"\\n✅ You selected: {selected_mood.capitalize()}\")\n",
    "\n",
    "        print(\"\\n🎬 Movie Recommendations:\")\n",
    "        for movie in get_movies_by_emotion(selected_mood):\n",
    "            print(\"→\", movie)\n",
    "\n",
    "        print(\"\\n🎧 Playlist Recommendations:\")\n",
    "        for playlist in get_playlists_by_emotion(selected_mood):\n",
    "            print(\"🎵\", playlist)\n",
    "    else:\n",
    "        print(\"❌ Invalid choice. Please enter a number between 1 and 7.\")\n",
    "except ValueError:\n",
    "    print(\"❌ Please enter a valid number between 1 and 7.\")\n"
   ]
  },
  {
   "cell_type": "code",
   "execution_count": 91,
   "id": "1f00842c-09bb-4429-9525-c5a76522d34f",
   "metadata": {},
   "outputs": [],
   "source": [
    "import requests\n",
    "import random\n",
    "\n",
    "TMDB_API_KEY = \"6e31f42d9623f1f0c42558cdc05b60a0\"\n",
    "\n",
    "def get_movies_by_emotion(emotion):\n",
    "    genre_map = {\n",
    "        'happy': 35,\n",
    "        'sad': 18,\n",
    "        'angry': 28,\n",
    "        'fear': 27,\n",
    "        'surprise': 9648,\n",
    "        'disgust': 53,\n",
    "        'neutral': 99\n",
    "    }\n",
    "\n",
    "    genre_id = genre_map.get(emotion.lower(), 18)  # fallback to Drama\n",
    "    page = random.randint(1, 5)  # randomize page to get different movies\n",
    "    \n",
    "    url = (\n",
    "        f\"https://api.themoviedb.org/3/discover/movie\"\n",
    "        f\"?api_key={TMDB_API_KEY}\"\n",
    "        f\"&with_genres={genre_id}\"\n",
    "        f\"&sort_by=vote_average.desc\"\n",
    "        f\"&vote_count.gte=100\"\n",
    "        f\"&page={page}\"\n",
    "    )\n",
    "\n",
    "    response = requests.get(url)\n",
    "    if response.status_code == 200:\n",
    "        results = response.json().get('results', [])[:5]\n",
    "        return [\n",
    "            f\"{movie['title']} ({movie['release_date'][:4]})\"\n",
    "            for movie in results if movie.get('release_date')\n",
    "        ]\n",
    "    else:\n",
    "        return [\"Could not fetch movies.\", f\"Status Code: {response.status_code}\"]\n"
   ]
  },
  {
   "cell_type": "code",
   "execution_count": 100,
   "id": "61fed60f-1dcc-40b6-96ec-3bcf6fcc5120",
   "metadata": {},
   "outputs": [
    {
     "name": "stdout",
     "output_type": "stream",
     "text": [
      "🎬 Movie Suggestions for 'sad':\n",
      "→ Evangelion: 3.0+1.0 Thrice Upon a Time (2021)\n",
      "→ Mommy (2014)\n",
      "→ Il Sorpasso (1962)\n",
      "→ Wolf Children (2012)\n",
      "→ Saving Private Ryan (1998)\n"
     ]
    }
   ],
   "source": [
    "print(\"🎬 Movie Suggestions for 'sad':\")\n",
    "for m in get_movies_by_emotion(\"sad\"):\n",
    "    print(\"→\", m)\n"
   ]
  },
  {
   "cell_type": "code",
   "execution_count": 102,
   "id": "1fd685c2-073e-4815-91ca-31153f97062d",
   "metadata": {},
   "outputs": [],
   "source": [
    "import requests\n",
    "import base64\n",
    "\n",
    "def get_spotify_token():\n",
    "    client_id = \"2b8479cdf4b142c38c0932fc4a8236ad\"\n",
    "    client_secret = \"0b0ce7d8708a4bae9f73b610587ce83a\"\n",
    "    \n",
    "    auth_str = f\"{client_id}:{client_secret}\"\n",
    "    b64_auth = base64.b64encode(auth_str.encode()).decode()\n",
    "\n",
    "    headers = {\n",
    "        \"Authorization\": f\"Basic {b64_auth}\",\n",
    "        \"Content-Type\": \"application/x-www-form-urlencoded\"\n",
    "    }\n",
    "\n",
    "    data = {\"grant_type\": \"client_credentials\"}\n",
    "\n",
    "    response = requests.post(\"https://accounts.spotify.com/api/token\", headers=headers, data=data)\n",
    "    token = response.json().get(\"access_token\")\n",
    "    return token\n"
   ]
  },
  {
   "cell_type": "code",
   "execution_count": 122,
   "id": "b5ecd2c2-9264-49a7-b348-3352ab08802b",
   "metadata": {},
   "outputs": [],
   "source": [
    "import random\n",
    "\n",
    "def get_playlists_by_emotion(emotion):\n",
    "    token = get_spotify_token()\n",
    "    headers = {\n",
    "        \"Authorization\": f\"Bearer {token}\"\n",
    "    }\n",
    "\n",
    "    offset = random.randint(0, 50)  # shuffle results by skipping N items\n",
    "\n",
    "    url = (\n",
    "        f\"https://api.spotify.com/v1/search\"\n",
    "        f\"?q={emotion}&type=playlist&limit=5&offset={offset}\"\n",
    "    )\n",
    "\n",
    "    response = requests.get(url, headers=headers)\n",
    "\n",
    "    if response.status_code == 200:\n",
    "        items = response.json().get(\"playlists\", {}).get(\"items\", [])\n",
    "        \n",
    "        results = []\n",
    "        for item in items:\n",
    "            if item is None:\n",
    "                continue\n",
    "            name = item.get('name')\n",
    "            external = item.get('external_urls')\n",
    "            url = external.get('spotify') if external else None\n",
    "            if name and url:\n",
    "                results.append(f\"{name} → {url}\")\n",
    "        \n",
    "        return results if results else [\"No valid playlists found.\"]\n",
    "    else:\n",
    "        return [f\"Could not fetch playlists. Status Code: {response.status_code}\"]\n"
   ]
  },
  {
   "cell_type": "code",
   "execution_count": 150,
   "id": "661f3a6b-a3ba-4353-819f-e5fe7e62d9c1",
   "metadata": {},
   "outputs": [
    {
     "name": "stdout",
     "output_type": "stream",
     "text": [
      "🎧 Playlists for 'surprise':\n",
      "🎵 TEARS FOR FEARS - Greatest Hits → https://open.spotify.com/playlist/0GmOUDpkM8XcrhBZ1mjamV\n",
      "🎵 Fear No Plague ♠️ → https://open.spotify.com/playlist/1iyXW8lVMRAeDF3BlJVoFN\n",
      "🎵 Kai and Paedyn core → https://open.spotify.com/playlist/2taaGHd3SpYNZXZoccBY34\n",
      "🎵 anti anxiety frequencies ✨ let go of worrying & overthinking 2025 → https://open.spotify.com/playlist/7d8hYSbp5vXOTrEtXVGEmj\n",
      "🎵 The Only Thing They Fear Is You... → https://open.spotify.com/playlist/388nIvZ5PBUkvoSQKWAQj7\n"
     ]
    }
   ],
   "source": [
    "print(\"🎧 Playlists for 'surprise':\")\n",
    "for p in get_playlists_by_emotion(\"fear\"):\n",
    "    print(\"🎵\", p)\n"
   ]
  },
  {
   "cell_type": "code",
   "execution_count": 152,
   "id": "2de96310-dff9-4994-8f36-9857b6ebe53c",
   "metadata": {},
   "outputs": [],
   "source": [
    "def get_recommendations_for_emotion(emotion):\n",
    "    print(f\"\\n💡 Detected Emotion: {emotion.capitalize()}\")\n",
    "    \n",
    "    # Movies\n",
    "    print(\"\\n🎬 Movie Recommendations:\")\n",
    "    movies = get_movies_by_emotion(emotion)\n",
    "    for m in movies:\n",
    "        print(\"→\", m)\n",
    "\n",
    "    # Music\n",
    "    print(\"\\n🎧 Playlist Recommendations:\")\n",
    "    playlists = get_playlists_by_emotion(emotion)\n",
    "    for p in playlists:\n",
    "        print(\"🎵\", p)\n"
   ]
  },
  {
   "cell_type": "code",
   "execution_count": 154,
   "id": "3e9c6ab0-0006-4a3c-b682-125a44b33482",
   "metadata": {},
   "outputs": [],
   "source": [
    "label = emotion_labels[np.argmax(preds)]\n"
   ]
  },
  {
   "cell_type": "code",
   "execution_count": 166,
   "id": "01bfddf4-84c4-495a-ba1c-c89d1f847840",
   "metadata": {},
   "outputs": [
    {
     "name": "stdout",
     "output_type": "stream",
     "text": [
      "\n",
      "💡 Detected Emotion: Fear (11.8%)\n",
      "\n",
      "🎬 Movie Recommendations:\n",
      "→ Fight Club (1999)\n",
      "→ Cinema Paradiso (1988)\n",
      "→ City of God (2002)\n",
      "→ A Dog's Will (2000)\n",
      "→ Impossible Things (2021)\n",
      "\n",
      "🎧 Playlist Recommendations:\n",
      "🎵 Fear → https://open.spotify.com/playlist/1p8LyQFVrGGlYZaN28qmPn\n",
      "🎵 1% → https://open.spotify.com/playlist/3VcxgJLOpCE1jS0drqt1Cf\n",
      "🎵 FEAR. → https://open.spotify.com/playlist/19vDLCHyCozqhMdCoAhy4S\n",
      "🎵 1% → https://open.spotify.com/playlist/0voL3idiZ1Er8EnMP6SZaE\n",
      "🎵 8% → https://open.spotify.com/playlist/593FvAaA8gGJX8RRkIukfj\n"
     ]
    }
   ],
   "source": [
    "get_recommendations_for_emotion(label)\n"
   ]
  },
  {
   "cell_type": "code",
   "execution_count": 174,
   "id": "05df373f-0b1c-472c-8292-db9610038eab",
   "metadata": {},
   "outputs": [
    {
     "name": "stdout",
     "output_type": "stream",
     "text": [
      "surprise → 51.54%\n",
      "fear → 11.79%\n",
      "angry → 11.61%\n",
      "\n",
      "✅ Final Emotion Output: surprise\n",
      "\n",
      "💡 Detected Emotion: Surprise\n",
      "\n",
      "🎬 Movie Recommendations:\n",
      "→ Justice League: Starcrossed - The Movie (2004)\n",
      "→ Sherlock Jr. (1924)\n",
      "→ Kizumonogatari Part 3: Reiketsu (2017)\n",
      "→ Kizumonogatari Part 2: Nekketsu (2016)\n",
      "→ Scooby-Doo! and Kiss: Rock and Roll Mystery (2015)\n",
      "\n",
      "🎧 Playlist Recommendations:\n",
      "🎵 Surprise → https://open.spotify.com/playlist/21NbEbUUUSDJw4hqUZC03U\n",
      "🎵 Taylor Swift Complete Eras Tour + all Surprise  Songs → https://open.spotify.com/playlist/03BdIUJX3qTaHmBriFMPM6\n",
      "🎵 🧫Surprise🥵 → https://open.spotify.com/playlist/0d7IYiYfoKWCyvHj6WH3E0\n",
      "🎵 LIT QUINCE DANCE PLAYLIST 😎🎉 → https://open.spotify.com/playlist/70STWYSNHki7Z9A3QmAIlM\n",
      "🎵 Rainbow Kitten Surprise Discography → https://open.spotify.com/playlist/0FwT8WLYLzqaqi3swp0SqU\n"
     ]
    }
   ],
   "source": [
    "preds = model.predict(face, verbose=0)[0]\n",
    "top_idx = np.argsort(preds)[-3:][::-1]  # get top 3\n",
    "\n",
    "# Print all top 3\n",
    "for i in top_idx:\n",
    "    print(f\"{emotion_labels[i]} → {preds[i]*100:.2f}%\")\n",
    "\n",
    "# Choose the highest confidence one\n",
    "final_emotion = emotion_labels[top_idx[0]]\n",
    "print(f\"\\n✅ Final Emotion Output: {final_emotion}\")\n",
    "\n",
    "# Use it for recommendations\n",
    "get_recommendations_for_emotion(final_emotion)\n"
   ]
  },
  {
   "cell_type": "code",
   "execution_count": 200,
   "id": "1a47a698-d6a8-4374-93fc-d9422ef1891f",
   "metadata": {},
   "outputs": [
    {
     "name": "stderr",
     "output_type": "stream",
     "text": [
      "WARNING:absl:Compiled the loaded model, but the compiled metrics have yet to be built. `model.compile_metrics` will be empty until you train or evaluate the model.\n",
      "2025-04-22 11:14:21.735 \n",
      "  \u001b[33m\u001b[1mWarning:\u001b[0m to view this Streamlit app on a browser, run it with the following\n",
      "  command:\n",
      "\n",
      "    streamlit run C:\\Users\\manop\\anaconda3\\Lib\\site-packages\\ipykernel_launcher.py [ARGUMENTS]\n",
      "2025-04-22 11:14:21.735 Session state does not function when running a script without `streamlit run`\n"
     ]
    }
   ],
   "source": [
    "# WEBSITE BUILDING\n",
    "\n",
    "import streamlit as st\n",
    "import numpy as np\n",
    "import cv2\n",
    "import tempfile\n",
    "from PIL import Image\n",
    "import tensorflow as tf\n",
    "import requests\n",
    "import base64\n",
    "import random\n",
    "\n",
    "# Load model\n",
    "model = tf.keras.models.load_model(\"ensemble_emotion_model.h5\")\n",
    "IMAGE_SIZE = (96, 96)\n",
    "emotion_labels = ['angry', 'disgust', 'fear', 'happy', 'neutral', 'sad', 'surprise']\n",
    "\n",
    "# TMDb Movie Recommender\n",
    "TMDB_API_KEY = \"6e31f42d9623f1f0c42558cdc05b60a0\"\n",
    "def get_movies_by_emotion(emotion):\n",
    "    genre_map = {\n",
    "        'happy': 35, 'sad': 18, 'angry': 28, 'fear': 27,\n",
    "        'surprise': 9648, 'disgust': 53, 'neutral': 99\n",
    "    }\n",
    "    genre_id = genre_map.get(emotion.lower(), 18)\n",
    "    page = random.randint(1, 5)\n",
    "    url = f\"https://api.themoviedb.org/3/discover/movie?api_key={TMDB_API_KEY}&with_genres={genre_id}&sort_by=vote_average.desc&vote_count.gte=100&page={page}\"\n",
    "    response = requests.get(url)\n",
    "    if response.status_code == 200:\n",
    "        results = response.json().get('results', [])[:5]\n",
    "        return [f\"{m['title']} ({m['release_date'][:4]})\" for m in results if m.get('release_date')]\n",
    "    return [\"Error fetching movies\"]\n",
    "\n",
    "# Spotify Music Recommender\n",
    "SPOTIFY_CLIENT_ID = \"2b8479cdf4b142c38c0932fc4a8236ad\"\n",
    "SPOTIFY_CLIENT_SECRET = \"0b0ce7d8708a4bae9f73b610587ce83a\"\n",
    "def get_spotify_token():\n",
    "    auth_str = f\"{SPOTIFY_CLIENT_ID}:{SPOTIFY_CLIENT_SECRET}\"\n",
    "    b64_auth = base64.b64encode(auth_str.encode()).decode()\n",
    "    headers = {\"Authorization\": f\"Basic {b64_auth}\", \"Content-Type\": \"application/x-www-form-urlencoded\"}\n",
    "    data = {\"grant_type\": \"client_credentials\"}\n",
    "    response = requests.post(\"https://accounts.spotify.com/api/token\", headers=headers, data=data)\n",
    "    return response.json().get(\"access_token\")\n",
    "\n",
    "def get_playlists_by_emotion(emotion):\n",
    "    token = get_spotify_token()\n",
    "    headers = {\"Authorization\": f\"Bearer {token}\"}\n",
    "    offset = random.randint(0, 50)\n",
    "    url = f\"https://api.spotify.com/v1/search?q={emotion}&type=playlist&limit=5&offset={offset}\"\n",
    "    response = requests.get(url, headers=headers)\n",
    "    if response.status_code == 200:\n",
    "        items = response.json().get(\"playlists\", {}).get(\"items\", [])\n",
    "        results = []\n",
    "        for item in items:\n",
    "            if item and item.get('external_urls'):\n",
    "                name = item.get('name')\n",
    "                link = item['external_urls'].get('spotify')\n",
    "                if name and link:\n",
    "                    results.append(f\"{name} → {link}\")\n",
    "        return results\n",
    "    return [\"Error fetching playlists\"]\n",
    "\n",
    "# Predict Emotion\n",
    "def predict_emotion(image):\n",
    "    image = cv2.resize(image, IMAGE_SIZE)\n",
    "    image = image.astype(\"float32\") / 255.0\n",
    "    image = np.expand_dims(image, axis=0)\n",
    "    preds = model.predict(image)[0]\n",
    "    top_idx = np.argsort(preds)[-3:][::-1]\n",
    "    result = [(emotion_labels[i], float(preds[i])) for i in top_idx]\n",
    "    return result\n",
    "\n",
    "# Streamlit UI\n",
    "st.set_page_config(page_title=\"Emotion-Based Recommender\", layout=\"centered\")\n",
    "st.title(\"🧠 Real-Time Emotion Analysis & Recommendations\")\n",
    "\n",
    "option = st.radio(\"Choose input mode:\", [\"📸 Upload Image\", \"🧍 Manual Mood\", \"🎥 Webcam (Capture Frame)\"])\n",
    "\n",
    "if option == \"📸 Upload Image\":\n",
    "    uploaded_file = st.file_uploader(\"Upload a facial image\", type=[\"jpg\", \"png\", \"jpeg\"])\n",
    "    if uploaded_file:\n",
    "        image = Image.open(uploaded_file).convert('RGB')\n",
    "        img_np = np.array(image)\n",
    "        st.image(img_np, caption=\"Uploaded Image\", use_column_width=True)\n",
    "\n",
    "        top3 = predict_emotion(img_np)\n",
    "        final_emotion = top3[0][0]\n",
    "\n",
    "        st.subheader(\"🔍 Detected Emotions:\")\n",
    "        for emo, score in top3:\n",
    "            st.write(f\"{emo.capitalize()} — {score*100:.2f}%\")\n",
    "\n",
    "        st.success(f\"Detected Dominant Emotion: **{final_emotion.capitalize()}**\")\n",
    "\n",
    "        st.markdown(\"---\")\n",
    "        st.subheader(\"🎬 Movie Recommendations:\")\n",
    "        for m in get_movies_by_emotion(final_emotion):\n",
    "            st.write(\"→\", m)\n",
    "\n",
    "        st.subheader(\"🎧 Music Playlists:\")\n",
    "        for p in get_playlists_by_emotion(final_emotion):\n",
    "            st.write(\"🎵\", p)\n",
    "\n",
    "elif option == \"🧍 Manual Mood\":\n",
    "    selected_mood = st.selectbox(\"Choose your current mood:\", emotion_labels)\n",
    "    st.success(f\"You selected: {selected_mood.capitalize()}\")\n",
    "\n",
    "    st.subheader(\"🎬 Movie Recommendations:\")\n",
    "    for m in get_movies_by_emotion(selected_mood):\n",
    "        st.write(\"→\", m)\n",
    "\n",
    "    st.subheader(\"🎧 Music Playlists:\")\n",
    "    for p in get_playlists_by_emotion(selected_mood):\n",
    "        st.write(\"🎵\", p)\n",
    "\n",
    "elif option == \"🎥 Webcam (Capture Frame)\":\n",
    "    st.warning(\"📷 Webcam access is not supported directly in hosted Streamlit. Run locally to use this.\")\n",
    "    st.code(\"Use OpenCV-based webcam detection in your local environment to get emotion output and feed it here manually.\")"
   ]
  },
  {
   "cell_type": "code",
   "execution_count": null,
   "id": "f02f049d-8898-4509-b258-95bf1543b854",
   "metadata": {},
   "outputs": [],
   "source": []
  }
 ],
 "metadata": {
  "kernelspec": {
   "display_name": "Python [conda env:base] *",
   "language": "python",
   "name": "conda-base-py"
  },
  "language_info": {
   "codemirror_mode": {
    "name": "ipython",
    "version": 3
   },
   "file_extension": ".py",
   "mimetype": "text/x-python",
   "name": "python",
   "nbconvert_exporter": "python",
   "pygments_lexer": "ipython3",
   "version": "3.12.7"
  }
 },
 "nbformat": 4,
 "nbformat_minor": 5
}
